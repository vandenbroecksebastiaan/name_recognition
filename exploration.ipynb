{
 "cells": [
  {
   "cell_type": "code",
   "execution_count": 3,
   "metadata": {},
   "outputs": [
    {
     "name": "stdout",
     "output_type": "stream",
     "text": [
      "othercountries \t\t 5\n",
      "luxembourg \t\t 72\n",
      "malta \t\t 98\n",
      "moldova \t\t 108\n",
      "montenegro \t\t 119\n",
      "georgia \t\t 140\n",
      "belarus \t\t 170\n",
      "ukraine \t\t 191\n",
      "belgium \t\t 196\n",
      "slovakia \t\t 199\n",
      "vietnam \t\t 200\n",
      "poland \t\t 210\n",
      "russia \t\t 210\n",
      "slovenia \t\t 213\n",
      "austria \t\t 219\n",
      "czechrepublic \t\t 285\n",
      "sweden \t\t 291\n",
      "hungary \t\t 292\n",
      "swiss \t\t 303\n",
      "armenia \t\t 304\n",
      "macedonia \t\t 305\n",
      "azerbaijan \t\t 312\n",
      "serbia \t\t 314\n",
      "ireland \t\t 325\n",
      "norway \t\t 361\n",
      "croatia \t\t 367\n",
      "denmark \t\t 371\n",
      "kazakhstanuzbekistanetc \t\t 393\n",
      "latvia \t\t 474\n",
      "finland \t\t 603\n",
      "kosovo \t\t 605\n",
      "estonia \t\t 613\n",
      "greece \t\t 622\n",
      "portugal \t\t 710\n",
      "bosniaandherzegovina \t\t 741\n",
      "lithuania \t\t 750\n",
      "israel \t\t 782\n",
      "spain \t\t 872\n",
      "albania \t\t 922\n",
      "iceland \t\t 1141\n",
      "korea \t\t 1257\n",
      "japan \t\t 1266\n",
      "indiasrilanka \t\t 1274\n",
      "bulgaria \t\t 1291\n",
      "france \t\t 1310\n",
      "greatbritain \t\t 1362\n",
      "romania \t\t 1400\n",
      "germany \t\t 1518\n",
      "eastfrisia \t\t 1519\n",
      "turkey \t\t 1544\n",
      "arabiapersia \t\t 1660\n",
      "thenetherlands \t\t 2095\n",
      "italy \t\t 2190\n",
      "usa \t\t 2586\n",
      "china \t\t 7255\n"
     ]
    }
   ],
   "source": [
    "# What about class imbalance?\n",
    "from load_data import NameDataset\n",
    "import json \n",
    "import torch\n",
    "import matplotlib.pyplot as plt\n",
    "\n",
    "x_data = NameDataset().x_data\n",
    "y_data = NameDataset().y_data\n",
    "\n",
    "with open(\"data/int_to_country.json\") as file:\n",
    "    int_to_country = json.load(file)\n",
    "\n",
    "\n",
    "country_count = {}\n",
    "\n",
    "for i in y_data:\n",
    "    country_idx = (i == 1).nonzero(as_tuple=True)[0].item()\n",
    "    country = int_to_country[str(country_idx)]\n",
    "    if country not in country_count: country_count[country] = 1\n",
    "    else: country_count[country] += 1\n",
    "\n",
    "country_count = {k: v for k, v in sorted(country_count.items(), key=lambda item: item[1])}\n",
    "for i, j in country_count.items():\n",
    "    print(i, \"\\t\\t\", j)"
   ]
  },
  {
   "cell_type": "code",
   "execution_count": 44,
   "metadata": {},
   "outputs": [],
   "source": [
    "# Load the model\n",
    "import torch\n",
    "rnn = torch.load(\"output/model.pt\")\n",
    "\n",
    "# Load the test data\n",
    "from load_data import NameDataset, collate_fn\n",
    "\n",
    "dataset = NameDataset(reduce=True)\n",
    "train_set, val_set, test_set = torch.utils.data.random_split(\n",
    "    dataset, lengths=[11300, 1413, 1413]\n",
    ")\n",
    "\n",
    "test_loader = torch.utils.data.DataLoader(test_set, batch_size=16,\n",
    "                                          collate_fn=collate_fn)\n"
   ]
  },
  {
   "cell_type": "code",
   "execution_count": 45,
   "metadata": {},
   "outputs": [],
   "source": [
    "predictions = []\n",
    "targets = []\n",
    "\n",
    "# Iterate over the test loader and save the predictions\n",
    "for idx, (x_test, y_test) in enumerate(test_loader):\n",
    "    y_test = torch.argmax(y_test, dim=1)\n",
    "    prediction = rnn(x_test)\n",
    "    prediction = torch.argmax(prediction, dim=1)\n",
    "\n",
    "    predictions.append(prediction)\n",
    "    targets.append(y_test)\n",
    "\n",
    "predictions = torch.cat(predictions)\n",
    "targets = torch.cat(targets)"
   ]
  },
  {
   "cell_type": "code",
   "execution_count": 46,
   "metadata": {},
   "outputs": [
    {
     "name": "stdout",
     "output_type": "stream",
     "text": [
      "{'0': 'china', '1': 'italy', '2': 'thenetherlands', '3': 'usa'}\n"
     ]
    },
    {
     "data": {
      "text/plain": [
       "tensor([[658,  31,   1,  40],\n",
       "        [ 55, 131,   1,  39],\n",
       "        [ 60,  73,  23,  54],\n",
       "        [ 99,  67,  14,  67]], device='cuda:0')"
      ]
     },
     "execution_count": 46,
     "metadata": {},
     "output_type": "execute_result"
    }
   ],
   "source": [
    "# Make a confusion matrix\n",
    "import json\n",
    "with open(\"data/int_to_country.json\") as file:\n",
    "    countries = json.load(file)\n",
    "\n",
    "print(countries)\n",
    "print(sum(predictions == targets) / len(predictions))\n",
    "\n",
    "import torchmetrics\n",
    "confmat = torchmetrics.ConfusionMatrix(task=\"multiclass\", num_classes=4).cuda()\n",
    "confmat(predictions, targets)"
   ]
  }
 ],
 "metadata": {
  "kernelspec": {
   "display_name": "Python 3",
   "language": "python",
   "name": "python3"
  },
  "language_info": {
   "codemirror_mode": {
    "name": "ipython",
    "version": 3
   },
   "file_extension": ".py",
   "mimetype": "text/x-python",
   "name": "python",
   "nbconvert_exporter": "python",
   "pygments_lexer": "ipython3",
   "version": "3.10.6"
  },
  "orig_nbformat": 4,
  "vscode": {
   "interpreter": {
    "hash": "31f2aee4e71d21fbe5cf8b01ff0e069b9275f58929596ceb00d14d90e3e16cd6"
   }
  }
 },
 "nbformat": 4,
 "nbformat_minor": 2
}
